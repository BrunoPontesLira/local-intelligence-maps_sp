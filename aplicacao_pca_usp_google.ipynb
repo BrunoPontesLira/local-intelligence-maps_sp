# %% [markdown]
# Vamos aplicar PCA na base de dados que obtemos sobre estabelecimentos. 

# %% [markdown]
# # Coleta e preparação dos dados

# %%
import pandas as pd
import numpy as np
from factor_analyzer import FactorAnalyzer
from factor_analyzer.factor_analyzer import calculate_bartlett_sphericity
import matplotlib.pyplot as plt
# from mpl_toolkits.mplot3d import Axes3D
import seaborn as sns
import plotly.io as pio
pio.renderers.default = 'browser'
import plotly.graph_objects as go
from sklearn.preprocessing import StandardScaler, LabelEncoder
from sklearn.decomposition import PCA
import shapefile as shp
import matplotlib.pyplot as plt
import scipy as sp

# %%
# Configurações para evitar truncamento
pd.set_option('display.max_columns', None)  # Mostra todas as colunas
pd.set_option('display.max_rows', None)     # Mostra todas as linhas
pd.set_option('display.max_colwidth', None) # Mostra o conteúdo completo das células



# %% [markdown]
# Carregando os dados o banco de dados

# %%
df_google_places_mcdonalds = pd.read_csv('base/base_google_places_tratada_normalizada_mcdonalds.csv', sep=';', encoding='utf-8')
df_google_places_burgerking = pd.read_csv('base/base_google_places_tratada_normalizada_burgerking.csv', sep=';', encoding='utf-8')
df_google_places_bobs = pd.read_csv('base/base_google_places_tratada_normalizada_bobs.csv', sep=';', encoding='utf-8')
# Exibindo informações iniciais
# print("\nInformações do dataset:")
# print(df_google_places_mcdonalds.info())
# print(df_google_places_burgerking.info())

# %%
df_saopaulo = pd.read_csv('base/dados_distrito_sp_2015.csv', sep=';', encoding='utf-8')
# Exibindo informações iniciais
print("\nInformações do dataset:")
print(df_saopaulo.info())

# %%
# Converter os nomes dos distritos para letras minúsculas e remover espaços extras
df_google_places_mcdonalds["distrito_old"] = df_google_places_mcdonalds["distrito"]
df_google_places_mcdonalds["distrito"] = df_google_places_mcdonalds["distrito_atualizado"].str.lower().str.strip()
df_saopaulo["distrito"] = df_saopaulo["distrito"].str.lower().str.strip()

# Realizar a junção das tabelas com base nos distritos
df_merged_mcdonalds = df_google_places_mcdonalds.merge(df_saopaulo, on="distrito", how="inner")

# Salvar a base unificada para um novo CSV
df_merged_mcdonalds.to_csv("dados_unificados_google_mcdonalds_socioec.csv", index=False, sep=";", encoding="utf-8")

print(df_merged_mcdonalds.info())

# %%
# Converter os nomes dos distritos para letras minúsculas e remover espaços extras
df_google_places_burgerking["distrito_old"]= df_google_places_burgerking["distrito"]
df_google_places_burgerking["distrito"] = df_google_places_burgerking["distrito_atualizado"].str.lower().str.strip()
df_saopaulo["distrito"] = df_saopaulo["distrito"].str.lower().str.strip()

# Realizar a junção das tabelas com base nos distritos
df_merged_burgerking = df_google_places_burgerking.merge(df_saopaulo, on="distrito", how="inner")

# Salvar a base unificada para um novo CSV
df_merged_burgerking.to_csv("dados_unificados_google_burguerking_socioec.csv", index=False, sep=";", encoding="utf-8")

print(df_merged_burgerking.info())

# %%
# Converter os nomes dos distritos para letras minúsculas e remover espaços extras
df_google_places_bobs["distrito_old"]= df_google_places_bobs["distrito"]
df_google_places_bobs["distrito"] = df_google_places_bobs["distrito_atualizado"].str.lower().str.strip()
df_saopaulo["distrito"] = df_saopaulo["distrito"].str.lower().str.strip()

# Realizar a junção das tabelas com base nos distritos
df_merged_bobs = df_google_places_bobs.merge(df_saopaulo, on="distrito", how="inner")

# Salvar a base unificada para um novo CSV
df_merged_bobs.to_csv("dados_unificados_google_burguerking_socioec.csv", index=False, sep=";", encoding="utf-8")

print(df_merged_bobs.info())

# %%
df_not_desc_mcdonalds = df_merged_mcdonalds.drop(columns=['place_id','name','address','distrito','latitude','longitude','phone', 'website',
        'price_level','business_status','is_open_now','types', 'opening_hours','delivery','dine_in', 
        'takeout','serves_breakfast','serves_dinner','serves_lunch','wheelchair_accessible_entrance',
        'distrito_atualizado','confianca_distrito','metodo_distrito','distrito_old','cód_ibge'
        ])
df_not_desc_burgerking = df_merged_burgerking.drop(columns=['place_id','name','address','distrito','latitude','longitude','phone', 'website',
        'price_level','business_status','is_open_now','types', 'opening_hours','delivery','dine_in', 
        'takeout','serves_breakfast','serves_dinner','serves_lunch','wheelchair_accessible_entrance',
        'distrito_atualizado','confianca_distrito','metodo_distrito','distrito_old','cód_ibge'
        ])

df_not_desc_bobs = df_merged_bobs.drop(columns=['place_id','name','address','distrito','latitude','longitude','phone', 'website',
        'price_level','business_status','is_open_now','types', 'opening_hours','delivery','dine_in', 
        'takeout','serves_breakfast','serves_dinner','serves_lunch','wheelchair_accessible_entrance',
        'distrito_atualizado','confianca_distrito','metodo_distrito','distrito_old','cód_ibge'
        ])
# print(df_not_desc.head())
print(df_not_desc_mcdonalds.info(verbose=True))
print(df_not_desc_burgerking.info(verbose=True))
print(df_not_desc_bobs.info(verbose=True))

# %%

df_not_desc_mcdonalds = df_merged_mcdonalds.drop(columns=['place_id','name','address','distrito','latitude','longitude','phone', 'website',
        'price_level','business_status','is_open_now','types', 'opening_hours','delivery','dine_in', 
        'takeout','serves_breakfast','serves_dinner','serves_lunch','wheelchair_accessible_entrance',
        'distrito_atualizado','confianca_distrito','metodo_distrito','distrito_old','cód_ibge'
        ])
df_not_desc_burgerking = df_merged_burgerking.drop(columns=['place_id','name','address','distrito','latitude','longitude','phone', 'website',
        'price_level','business_status','is_open_now','types', 'opening_hours','delivery','dine_in', 
        'takeout','serves_breakfast','serves_dinner','serves_lunch','wheelchair_accessible_entrance',
        'distrito_atualizado','confianca_distrito','metodo_distrito','distrito_old','cód_ibge'
        ])

df_not_desc_bobs = df_merged_bobs.drop(columns=['place_id','name','address','distrito','latitude','longitude','phone', 'website',
        'price_level','business_status','is_open_now','types', 'opening_hours','delivery','dine_in', 
        'takeout','serves_breakfast','serves_dinner','serves_lunch','wheelchair_accessible_entrance',
        'distrito_atualizado','confianca_distrito','metodo_distrito','distrito_old','cód_ibge'
        ])
# print(df_not_desc.head())
print(df_not_desc_mcdonalds.info(verbose=True))
print(df_not_desc_burgerking.info(verbose=True))

# %%
# Converter colunas específicas de object para float
cols_to_convert = ["quota", "escolaridade", "mortalidade", "txcresc", "causasext", "favel", "denspop"]

# Substituir possíveis vírgulas por pontos (separador decimal)
df_not_desc_mcdonalds[cols_to_convert] = df_not_desc_mcdonalds[cols_to_convert].replace(",", ".", regex=True)
df_not_desc_burgerking[cols_to_convert] = df_not_desc_burgerking [cols_to_convert].replace(",", ".", regex=True)
df_not_desc_bobs[cols_to_convert] = df_not_desc_bobs[cols_to_convert].replace(",", ".", regex=True)

# Converter para float
df_not_desc_mcdonalds[cols_to_convert] = df_not_desc_mcdonalds[cols_to_convert].astype(float)
df_not_desc_burgerking[cols_to_convert] = df_not_desc_burgerking[cols_to_convert].astype(float)
df_not_desc_bobs[cols_to_convert] = df_not_desc_bobs[cols_to_convert].astype(float)

# Arredondar para duas casas decimais
df_not_desc_mcdonalds[cols_to_convert] = df_not_desc_mcdonalds[cols_to_convert].round(2)
df_not_desc_burgerking[cols_to_convert] = df_not_desc_burgerking[cols_to_convert].round(2)
df_not_desc_bobs[cols_to_convert] = df_not_desc_bobs[cols_to_convert].round(2)

df_not_desc_mcdonalds = df_not_desc_mcdonalds.dropna()
df_not_desc_burgerking = df_not_desc_burgerking.dropna()
df_not_desc_bobs = df_not_desc_bobs.dropna()

# %%
print(df_not_desc_mcdonalds.info())

# %%
print(df_not_desc_mcdonalds.info(verbose=True))
print(df_not_desc_burgerking.info(verbose=True))
print(df_not_desc_bobs.info(verbose=True))

# %%
print(df_not_desc_burgerking.describe())
print(df_not_desc_burgerking.head(10))
print(df_not_desc_burgerking.isna().sum())

# %%
# Salvar a base unificada para um novo CSV
df_not_desc_mcdonalds.to_csv("dados_unificados_google_mcdonalds_socioec_var_metricas.csv", index=False, sep=";", encoding="utf-8")
df_not_desc_burgerking.to_csv("dados_unificados_google_burgerking_socioec_var_metricas.csv", index=False, sep=";", encoding="utf-8")
df_not_desc_bobs.to_csv("dados_unificados_google_bobs_socioec_var_metricas.csv", index=False, sep=";", encoding="utf-8")

# %% [markdown]
# # Análise exploratória

# %% [markdown]
# Temos 13 variáveis original, por tanto, podemos gerar 13 fatores

# %%
print(len(df_not_desc_mcdonalds.columns))

# %% [markdown]
# #### Mapa de calor da Matriz de correlação de Pearson entre váriaveis MacDonal's

# %%
correl_mc = df_not_desc_mcdonalds.corr()

# Gráfico interativo

fig = go.Figure()

fig.add_trace(
    go.Heatmap(
        x = correl_mc.columns,
        y = correl_mc.index,
        z = np.array(correl_mc),
        text=correl_mc.values,
        texttemplate='%{text:.4f}',
        colorscale='viridis'))

fig.update_layout(
    title="Mapa de Calor da Matriz de Correlação - McDonald's",
    height = 700,
    width = 700,
    yaxis=dict(autorange="reversed"))

fig.show()

# %% [markdown]
# #### Mapa de calor da Matriz de Pearson entre váriaveis Burger King

# %%
correl_bk = df_not_desc_burgerking.corr()

# Gráfico interativo

fig = go.Figure()

fig.add_trace(
    go.Heatmap(
        x = correl_bk.columns,
        y = correl_bk.index,
        z = np.array(correl_bk),
        text=correl_bk.values,
        texttemplate='%{text:.4f}',
        colorscale='viridis'))

fig.update_layout(
    title="Mapa de Calor da Matriz de Correlação - Burger King",
    height = 700,
    width = 700,
    yaxis=dict(autorange="reversed"))

fig.show()

# %% [markdown]
# #### Mapa de calor da Matriz de correlação de Pearson entre váriaveis Bob's

# %%
correl_bo = df_not_desc_bobs.corr()

# Gráfico interativo

fig = go.Figure()

fig.add_trace(
    go.Heatmap(
        x = correl_bo.columns,
        y = correl_bo.index,
        z = np.array(correl_bo),
        text=correl_bo.values,
        texttemplate='%{text:.4f}',
        colorscale='viridis'))

fig.update_layout(
    title="Mapa de Calor da Matriz de Correlação - Bob's",
    height = 700,
    width = 700,
    yaxis=dict(autorange="reversed"))

fig.show()

# %% [markdown]
# #### Teste de Esfericidade de Bartlett

# %%
bartlett, p_value = calculate_bartlett_sphericity(df_not_desc_mcdonalds)

print(f'Qui² Bartlett: {round(bartlett, 2)}')
print(f'p-valor: {round(p_value, 4)}')

# %%
bartlett, p_value = calculate_bartlett_sphericity(df_not_desc_burgerking)

print(f'Qui² Bartlett: {round(bartlett, 2)}')
print(f'p-valor: {round(p_value, 4)}')

# %%
bartlett, p_value = calculate_bartlett_sphericity(df_not_desc_bobs)

print(f'Qui² Bartlett: {round(bartlett, 2)}')
print(f'p-valor: {round(p_value, 4)}')

# %% [markdown]
# ### Definir o PCA ( procedimento inicial com todos os valores possíveis)
# 
# Obtendo os fatores

# %%
fat_mc = FactorAnalyzer(n_factors=13, method='principal', rotation=None).fit(df_not_desc_mcdonalds)
fat_bk = FactorAnalyzer(n_factors=13, method='principal', rotation=None).fit(df_not_desc_burgerking)
fat_bo = FactorAnalyzer(n_factors=13, method='principal', rotation=None).fit(df_not_desc_bobs)

# %% [markdown]
# Obtendo os Autovalores através dos fatores

# %%
autovalores_mc = fat_mc.get_eigenvalues()[0]
autovalores_bk = fat_bk.get_eigenvalues()[0]
autovalores_bo = fat_bo.get_eigenvalues()[0]

print(f"\n Autovalores Mc\n{autovalores_mc}")
print(f"\n Autovalores Bk\n{autovalores_bk}")
print(f"\n Autovalores Bo\n{autovalores_bo}")


# %% [markdown]
# Parametrizando a PCA para os fatores derivados de autovalores >  1 (4) [Kaiser]

# %%
fat_4_mc = FactorAnalyzer(n_factors=4, method='principal', rotation=None).fit(df_not_desc_mcdonalds)
fat_4_bk= FactorAnalyzer(n_factors=4, method='principal', rotation=None).fit(df_not_desc_burgerking)
fat_4_bo= FactorAnalyzer(n_factors=4, method='principal', rotation=None).fit(df_not_desc_bobs)

# %% [markdown]
# Autolavor, variâncias e variâncias acumuladas

# %%
autovalores_fatores_mc = fat_4_mc.get_factor_variance()

tabela_eigen_mc = pd.DataFrame(autovalores_fatores_mc)
tabela_eigen_mc.columns = [f"Fator {i+1}" for i, v in enumerate(tabela_eigen_mc.columns)]
tabela_eigen_mc.index = ['Autovalor','Variância', 'Variância Acumulada']
tabela_eigen_mc = tabela_eigen_mc.T

print(tabela_eigen_mc)

# %%
autovalores_fatores_bk = fat_4_bk.get_factor_variance()

tabela_eigen_bk = pd.DataFrame(autovalores_fatores_bk)
tabela_eigen_bk.columns = [f"Fator {i+1}" for i, v in enumerate(tabela_eigen_bk.columns)]
tabela_eigen_bk.index = ['Autovalor','Variância', 'Variância Acumulada']
tabela_eigen_bk = tabela_eigen_bk.T

print(tabela_eigen_bk)

# %%
autovalores_fatores_bo = fat_4_bo.get_factor_variance()

tabela_eigen_bo = pd.DataFrame(autovalores_fatores_bo)
tabela_eigen_bo.columns = [f"Fator {i+1}" for i, v in enumerate(tabela_eigen_bo.columns)]
tabela_eigen_bo.index = ['Autovalor','Variância', 'Variância Acumulada']
tabela_eigen_bo = tabela_eigen_bo.T

print(tabela_eigen_bo)

# %% [markdown]
# Gráfico da variância acumulada dos componentes principais

# %%
# Gráfico da variância acumulada dos componentes principais MC

plt.figure(figsize=(12,8))
ax = sns.barplot(x=tabela_eigen_mc.index, y=tabela_eigen_mc['Variância'], data=tabela_eigen_mc, palette='rocket')
ax.bar_label(ax.containers[0])
plt.title("Fatores Extraidos McDonald’s", fontsize=16)
plt.xlabel(f"{tabela_eigen_mc.shape[0]} fatores que explicam {round(tabela_eigen_mc['Variância'].sum()*100,2)}% da variância", fontsize=12)
plt.ylabel("Porcentagem de variância explicada", fontsize=12)
plt.show()

# %%
# Gráfico da variância acumulada dos componentes principais BK

plt.figure(figsize=(12,8))
ax = sns.barplot(x=tabela_eigen_bk.index, y=tabela_eigen_bk['Variância'], data=tabela_eigen_bk, palette='rocket')
ax.bar_label(ax.containers[0])
plt.title("Fatores Extraidos Burger King", fontsize=16)
plt.xlabel(f"{tabela_eigen_bk.shape[0]} fatores que explicam {round(tabela_eigen_bk['Variância'].sum()*100,2)}% da variância", fontsize=12)
plt.ylabel("Porcentagem de variância explicada", fontsize=12)
plt.show()

# %%
# Gráfico da variância acumulada dos componentes principais BO

plt.figure(figsize=(12,8))
ax = sns.barplot(x=tabela_eigen_bo.index, y=tabela_eigen_bo['Variância'], data=tabela_eigen_bo, palette='rocket')
ax.bar_label(ax.containers[0])
plt.title("Fatores Extraidos Bob’s", fontsize=16)
plt.xlabel(f"{tabela_eigen_bo.shape[0]} fatores que explicam {round(tabela_eigen_bo['Variância'].sum()*100,2)}% da variância", fontsize=12)
plt.ylabel("Porcentagem de variância explicada", fontsize=12)
plt.show()

# %% [markdown]
# ###  Obtendo os autovetores

# %%
autovetores_mc = fat_mc.loadings_
autovetores_bk = fat_bk.loadings_
autovetores_bo = fat_bo.loadings_

print(f"\n Autovetores Mc\n{autovetores_mc}")
print(f"\n Autovetores Bk\n{autovetores_bk}")
print(f"\n Autovetores Bo\n{autovetores_bo}")


# %% [markdown]
# ### Scores fatoriais

# %%
# Gerar scores fatoriais
scores_mc = fat_4_mc.transform(df_not_desc_mcdonalds)
scores_bk = fat_4_bk.transform(df_not_desc_burgerking)
scores_bo = fat_4_bo.transform(df_not_desc_bobs)

tabela_scores_mc = pd.DataFrame(scores_mc,
                                 columns=[f"Fator {i+1}" for i in range(scores_mc.shape[1])],
                                 index=df_not_desc_mcdonalds.index)

tabela_scores_bk= pd.DataFrame(scores_bk,
                                 columns=[f"Fator {i+1}" for i in range(scores_bk.shape[1])],
                                 index=df_not_desc_burgerking.index)

tabela_scores_bo= pd.DataFrame(scores_bo,
                                 columns=[f"Fator {i+1}" for i in range(scores_bo.shape[1])],
                                 index=df_not_desc_bobs.index)

print(f"mcdonalds\n{tabela_scores_mc}")
print(f"burgerking\n{tabela_scores_bk}")
print(f"bobs\n{tabela_scores_bo}")



# %% [markdown]
# ### Cargas fatoriais

# %%
cargas_fatoriais_mc = fat_4_mc.loadings_

tabela_cargas_mc = pd.DataFrame(cargas_fatoriais_mc)
tabela_cargas_mc.columns = [f"Fator {i+1}" for i, v in enumerate(tabela_cargas_mc.columns)]
tabela_cargas_mc.index = df_not_desc_mcdonalds.columns

print(tabela_cargas_mc)


# %%
cargas_fatoriais_bk = fat_4_bk.loadings_

tabela_cargas_bk = pd.DataFrame(cargas_fatoriais_bk)
tabela_cargas_bk.columns = [f"Fator {i+1}" for i, v in enumerate(tabela_cargas_bk.columns)]
tabela_cargas_bk.index = df_not_desc_burgerking.columns

print(tabela_cargas_bk)


# %%
cargas_fatoriais_bo = fat_4_bo.loadings_

tabela_cargas_bo = pd.DataFrame(cargas_fatoriais_bo)
tabela_cargas_bo.columns = [f"Fator {i+1}" for i, v in enumerate(tabela_cargas_bo.columns)]
tabela_cargas_bo.index = df_not_desc_bobs.columns

print(tabela_cargas_bo)

# %%
topN = 8
fig, axes = plt.subplots(2, 2, figsize=(12, 10))
axes = axes.ravel()

# nomes sintéticos para os fatores
nomes_fatores = {
    1: "Condição Socioeconômica",
    2: "Engajamento Digital",
    3: "Dinâmica Territorial e Vulnerabilidade",
    4: "Pressão Urbana / Densidade"
}

for i, ax in enumerate(axes, start=1):
    s = tabela_cargas_mc[f'Fator {i}'].abs().sort_values(ascending=False).head(topN)
    vals = tabela_cargas_mc.loc[s.index, f'Fator {i}']  # valores com sinal
    y = range(len(vals))
    
    ax.barh(y, vals.values)
    ax.barh(y, vals.values)
    ax.set_yticks(y)
    ax.set_yticklabels(s.index)
    ax.invert_yaxis()
    ax.axvline(0, ls='--')
    ax.set_xlabel('Carga')
    
    # aplica o nome sintético do fator
    ax.set_title(f"Top {topN} cargas — {nomes_fatores[i]}")
    fig.suptitle("Análise Fatorial — McDonald's", fontsize=18, y=1.02)

plt.tight_layout()
plt.show()

# %%
topN = 8
fig, axes = plt.subplots(2, 2, figsize=(12, 10))
axes = axes.ravel()

# nomes sintéticos para os fatores
nomes_fatores = {
    1: "Condição Socioeconômica",
    2: "Engajamento Digital",
    3: "Dinâmica Territorial e Vulnerabilidade",
    4: "Pressão Urbana / Densidade"
}

for i, ax in enumerate(axes, start=1):
    s = tabela_cargas_bk[f'Fator {i}'].abs().sort_values(ascending=False).head(topN)
    vals = tabela_cargas_bk.loc[s.index, f'Fator {i}']  # valores com sinal
    y = range(len(vals))
    
    ax.barh(y, vals.values)
    ax.set_yticks(y)
    ax.set_yticklabels(s.index)
    ax.invert_yaxis()
    ax.axvline(0, ls='--')
    ax.set_xlabel('Carga')
    
    # aplica o nome sintético do fator
    ax.set_title(f"Top {topN} cargas — {nomes_fatores[i]}")
    fig.suptitle("Análise Fatorial — Burger King", fontsize=18, y=1.02) 


plt.tight_layout()
plt.show()

# %%
topN = 8
fig, axes = plt.subplots(2, 2, figsize=(12, 10))
axes = axes.ravel()

# nomes sintéticos para os fatores
nomes_fatores = {
    1: "Condição Socioeconômica",
    2: "Engajamento Digital",
    3: "Dinâmica Territorial e Vulnerabilidade",
    4: "Pressão Urbana / Densidade"
}

for i, ax in enumerate(axes, start=1):
    s = tabela_cargas_bo[f'Fator {i}'].abs().sort_values(ascending=False).head(topN)
    vals = tabela_cargas_bo.loc[s.index, f'Fator {i}']  # valores com sinal
    y = range(len(vals))
    
    ax.barh(y, vals.values)
    ax.set_yticks(y)
    ax.set_yticklabels(s.index)
    ax.invert_yaxis()
    ax.axvline(0, ls='--')
    ax.set_xlabel('Carga')
    
    # aplica o nome sintético do fator
    ax.set_title(f"Top {topN} cargas — {nomes_fatores[i]}")
    fig.suptitle("Análise Fatorial — Bob's", fontsize=18, y=1.02) 


plt.tight_layout()
plt.show()

# %% [markdown]
# ### Rotação dos fatores para melhorar a interpratação, maximizando as cargas importantes

# %%
# Aplicando rotação varimax para melhorar a interpretação dos fatores
fat_mc_varimax = FactorAnalyzer(n_factors=4, method='principal', rotation='varimax').fit(df_not_desc_mcdonalds)

# Obtendo as cargas fatoriais após a rotação
autovalores_fatores_mc = fat_mc_varimax.get_factor_variance()

tabela_eigen_mc_varimax = pd.DataFrame(autovalores_fatores_mc)
tabela_eigen_mc_varimax.columns = [f"Fator {i+1}" for i, v in enumerate(tabela_eigen_mc_varimax.columns)]
tabela_eigen_mc_varimax.index = ['Autovalor','Variância', 'Variância Acumulada']
tabela_eigen_mc_varimax = tabela_eigen_mc_varimax.T

print(f'Novos autovalores após a rotação - MC\n {tabela_eigen_mc_varimax}\n')

# Novas cargas fatoriais após a rotação
cargas_fatoriais_mc_varimax = fat_mc_varimax.loadings_

tabela_cargas_mc_varimax = pd.DataFrame(cargas_fatoriais_mc_varimax)
tabela_cargas_mc_varimax.columns = [f"Fator {i+1}" for i, v in enumerate(tabela_cargas_mc_varimax.columns)]
tabela_cargas_mc_varimax.index = df_not_desc_mcdonalds.columns  # Usar as variáveis originais

print(f'Novas cargas fatoriais após a rotação - MC\n{tabela_cargas_mc_varimax}\n')

# %%
# Aplicando rotação varimax para melhorar a interpretação dos fatores
fat_bk_varimax = FactorAnalyzer(n_factors=4, method='principal', rotation='varimax').fit(df_not_desc_burgerking)

# Obtendo as cargas fatoriais após a rotação
autovalores_fatores_bk = fat_bk_varimax.get_factor_variance()

tabela_eigen_bk_varimax = pd.DataFrame(autovalores_fatores_bk)
tabela_eigen_bk_varimax.columns = [f"Fator {i+1}" for i, v in enumerate(tabela_eigen_bk_varimax.columns)]
tabela_eigen_bk_varimax.index = ['Autovalor','Variância', 'Variância Acumulada']
tabela_eigen_bk_varimax = tabela_eigen_bk_varimax.T

print(f'Novos autovalores após a rotação - BK\n {tabela_eigen_bk_varimax}\n')

# Novas cargas fatoriais após a rotação
cargas_fatoriais_bk_varimax = fat_bk_varimax.loadings_

tabela_cargas_bk_varimax = pd.DataFrame(cargas_fatoriais_bk_varimax)
tabela_cargas_bk_varimax.columns = [f"Fator {i+1}" for i, v in enumerate(tabela_cargas_bk_varimax.columns)]
tabela_cargas_bk_varimax.index = df_not_desc_burgerking.columns  # Usar as variáveis originais

print(f'Novas cargas fatoriais após a rotação - BK\n{tabela_cargas_bk_varimax}\n')

# %%
# Aplicando rotação varimax para melhorar a interpretação dos fatores
fat_bo_varimax = FactorAnalyzer(n_factors=4, method='principal', rotation='varimax').fit(df_not_desc_bobs)

# Obtendo as cargas fatoriais após a rotação
autovalores_fatores_bo = fat_bo_varimax.get_factor_variance()

tabela_eigen_bo_varimax = pd.DataFrame(autovalores_fatores_bo)
tabela_eigen_bo_varimax.columns = [f"Fator {i+1}" for i, v in enumerate(tabela_eigen_bo_varimax.columns)]
tabela_eigen_bo_varimax.index = ['Autovalor','Variância', 'Variância Acumulada']
tabela_eigen_bo_varimax = tabela_eigen_bo_varimax.T

print(f'Novos autovalores após a rotação - BO\n {tabela_eigen_bo_varimax}\n')

# Novas cargas fatoriais após a rotação
cargas_fatoriais_bo_varimax = fat_bo_varimax.loadings_

tabela_cargas_bo_varimax = pd.DataFrame(cargas_fatoriais_bo_varimax)
tabela_cargas_bo_varimax.columns = [f"Fator {i+1}" for i, v in enumerate(tabela_cargas_bo_varimax.columns)]
tabela_cargas_bo_varimax.index = df_not_desc_bobs.columns  # Usar as variáveis originais

print(f'Novas cargas fatoriais após a rotação - BO\n{tabela_cargas_bo_varimax}\n')

# %% [markdown]
# Determinando as comunalidades, após rotação

# %%
comunalidades_mc = fat_mc_varimax.get_communalities()

tabela_comunalidades_mc = pd.DataFrame(comunalidades_mc)
tabela_comunalidades_mc.columns = ['Comunalidades']
tabela_comunalidades_mc.index = df_not_desc_mcdonalds.columns

print(tabela_comunalidades_mc)

# %%
comunalidades_bk = fat_4_bk.get_communalities()

tabela_comunalidades_bk = pd.DataFrame(comunalidades_bk)
tabela_comunalidades_bk.columns = ['Comunalidades']
tabela_comunalidades_bk.index = df_not_desc_burgerking.columns

print(tabela_comunalidades_bk)

# %%
comunalidades_bo = fat_4_bo.get_communalities()

tabela_comunalidades_bo = pd.DataFrame(comunalidades_bo)
tabela_comunalidades_bo.columns = ['Comunalidades']
tabela_comunalidades_bo.index = df_not_desc_bobs.columns

print(tabela_comunalidades_bo)

# %% [markdown]
# Extração dos fatores para as observações do banco de dados. Lembrando que a função transform aplica o Z-score internamente na função do Factoranalyze

# %%
fatores_mc = pd.DataFrame(fat_mc_varimax.transform(df_not_desc_mcdonalds))
fatores_mc.columns =  [f"Fator {i+1}" for i, v in enumerate(fatores_mc.columns)]

# %%
fatores_bk = pd.DataFrame(fat_bk_varimax.transform(df_not_desc_mcdonalds))
fatores_bk.columns =  [f"Fator {i+1}" for i, v in enumerate(fatores_bk.columns)]

# %%
fatores_bo = pd.DataFrame(fat_bo_varimax.transform(df_not_desc_bobs))
fatores_bo.columns =  [f"Fator {i+1}" for i, v in enumerate(fatores_bo.columns)]

# %% [markdown]
# Adicionando os fatores ao banco de dados

# %%
df_merged_mc = pd.concat([df_not_desc_mcdonalds.reset_index(drop=True), fatores_mc], axis=1)
print(df_merged_mc.head())    

# %%
df_merged_bk = pd.concat([df_not_desc_burgerking.reset_index(drop=True), fatores_bk], axis=1)

# %%
df_merged_bo = pd.concat([df_not_desc_bobs.reset_index(drop=True), fatores_bo], axis=1)

# %% [markdown]
# ### Identificando os scores

# %%
# Verificar se ambos foram ajustados corretamente
print("MC fitted:", hasattr(fat_mc_varimax, 'loadings_'))
print("BK fitted:", hasattr(fat_bk_varimax, 'loadings_'))

# Verificar se weights_ existe
print("MC weights:", fat_mc_varimax.weights_ is not None)
print("BK weights:", fat_bk_varimax.weights_ is not None)

# Verificar se há problemas nos dados
print("Shape MC:", df_not_desc_mcdonalds.shape)
print("Shape BK:", df_not_desc_burgerking.shape)

# Verificar valores missing
print("Missing MC:", df_not_desc_mcdonalds.isnull().sum().sum())
print("Missing BK:", df_not_desc_burgerking.isnull().sum().sum())

# Verificar se as matrizes são válidas
print("Determinante MC:", np.linalg.det(df_not_desc_mcdonalds.corr()))
print("Determinante BK:", np.linalg.det(df_not_desc_burgerking.corr()))

# %%
scores_mc = fat_mc_varimax.weights_

tabela_scores_mc = pd.DataFrame(scores_mc)
tabela_scores_mc.columns = [f"Fator {i+1}" for i, v in enumerate(tabela_scores_mc.columns)]
tabela_scores_mc.index = df_not_desc_mcdonalds.columns

print(tabela_scores_mc)

# %%
scores_bk = fat_bk_varimax.weights_

tabela_scores_bk = pd.DataFrame(scores_bk)
tabela_scores_bk.columns = [f"Fator {i+1}" for i, v in enumerate(tabela_scores_bk.columns)]
tabela_scores_bk.index = df_not_desc_burgerking.columns

print(tabela_scores_bk)

# %%
scores_bo = fat_bk_varimax.weights_

tabela_scores_bo = pd.DataFrame(scores_bo)
tabela_scores_bo.columns = [f"Fator {i+1}" for i, v in enumerate(tabela_scores_bo.columns)]
tabela_scores_bo.index = df_not_desc_bobs.columns

print(tabela_scores_bo)

# %%
variaveis_portugues = {
    'rating': 'avaliacao',
    'total_ratings': 'total_classificacao',
    'photos_count': 'quantidade_foto',
    'reviews_count': 'quantidade_comentarios',
    'renda': 'renda',
    'quota': 'quota', 
    'escolaridade': 'escolaridade',
    'idade': 'idade',
    'mortalidade': 'mortalidade',
    'txcresc': 'txcresc',
    'causasext': 'causasext',
    'favel': 'favel',
    'denspop': 'denspop'
}

# %%
# Criar um dicionário com as descrições dos fatores
fatores_descricao = {
    'Fator 1': 'Condições Socioeconômicas',
    'Fator 2': 'Engajamento Digital', 
    'Fator 3': 'Dinâmica Territorial',
    'Fator 4': 'Dinâmica Urbana'
}


# Renomear as colunas da tabela original
tabela_scores_mc_desc = tabela_scores_mc.copy()
tabela_scores_mc_desc.columns = [fatores_descricao[col] for col in tabela_scores_mc_desc.columns]

# Renomear o índice (variáveis) para português
tabela_scores_mc_desc.index = [variaveis_portugues[var] for var in tabela_scores_mc_desc.index]

# Preparar dados para o gráfico
tabela_scores_graph_mc = tabela_scores_mc_desc.reset_index()
tabela_scores_graph_mc = tabela_scores_graph_mc.melt(id_vars='index')

# Criar o gráfico
sns.barplot(data=tabela_scores_graph_mc, x='variable', y='value', hue='index', palette='viridis')
plt.legend(title='Variáveis', bbox_to_anchor=(1,1), fontsize='6')
plt.title('Scores Fatoriais após rotação - McDonald\'s', fontsize='12')
plt.xlabel(xlabel=None)
plt.ylabel(ylabel=None)
plt.xticks(rotation=45, ha='right')
plt.tight_layout()
plt.show()

# %%
# Criar um dicionário com as descrições dos fatores
fatores_descricao = {
    'Fator 1': 'Condições Socioeconômicas',
    'Fator 2': 'Engajamento Digital', 
    'Fator 3': 'Dinâmica Territorial',
    'Fator 4': 'Dinâmica Urbana'
}

# Renomear as colunas da tabela original
tabela_scores_bk_desc = tabela_scores_bk.copy()
tabela_scores_bk_desc.columns = [fatores_descricao[col] for col in tabela_scores_bk_desc.columns]

#Renomear as colunas da tabela original
tabela_scores_bk_desc = tabela_scores_bk.copy()
tabela_scores_bk_desc.columns = [fatores_descricao[col] for col in tabela_scores_bk_desc.columns]

# Renomear o índice (variáveis) para português
tabela_scores_bk_desc.index = [variaveis_portugues[var] for var in tabela_scores_bk_desc.index]

# Preparar dados para o gráfico
tabela_scores_graph_bk = tabela_scores_bk_desc.reset_index()
tabela_scores_graph_bk = tabela_scores_graph_bk.melt(id_vars='index')

# Criar o gráfico
sns.barplot(data=tabela_scores_graph_bk, x='variable', y='value', hue='index', palette='viridis')
plt.legend(title='Variáveis', bbox_to_anchor=(1,1), fontsize='6')
plt.title('Scores Fatoriais após rotação - Burger King', fontsize='12')
plt.xlabel(xlabel=None)
plt.ylabel(ylabel=None)
plt.xticks(rotation=45, ha='right')  # Rotacionar rótulos se ficarem sobrepostos
plt.tight_layout()
plt.show()

# %%
#%% Interpretando os scores fatoriais em cada fator extraído

# Criar um dicionário com as descrições dos fatores
fatores_descricao = {
    'Fator 1': 'Condições Socioeconômicas',
    'Fator 2': 'Engajamento Digital', 
    'Fator 3': 'Dinâmica Territorial',
    'Fator 4': 'Dinâmica Urbana'
}

# Renomear as colunas da tabela original
tabela_scores_bo_desc = tabela_scores_bo.copy()
tabela_scores_bo_desc.columns = [fatores_descricao[col] for col in tabela_scores_bo_desc.columns]

# Renomear as colunas da tabela original
tabela_scores_bo_desc = tabela_scores_bo.copy()
tabela_scores_bo_desc.columns = [fatores_descricao[col] for col in tabela_scores_bo_desc.columns]

# Renomear o índice (variáveis) para português
tabela_scores_bo_desc.index = [variaveis_portugues[var] for var in tabela_scores_bo_desc.index]


# Preparar dados para o gráfico
tabela_scores_graph_bo = tabela_scores_bo_desc.reset_index()
tabela_scores_graph_bo = tabela_scores_graph_bo.melt(id_vars='index')

# Criar o gráfico
sns.barplot(data=tabela_scores_graph_bo, x='variable', y='value', hue='index', palette='viridis')
plt.legend(title='Variáveis', bbox_to_anchor=(1,1), fontsize='6')
plt.title("Scores Fatoriais após rotação - Bob's", fontsize='12')
plt.xlabel(xlabel=None)
plt.ylabel(ylabel=None)
plt.xticks(rotation=45, ha='right')  # Rotacionar rótulos se ficarem sobrepostos
plt.tight_layout()
plt.show()


